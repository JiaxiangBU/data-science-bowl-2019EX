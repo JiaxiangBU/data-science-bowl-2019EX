{
 "cells": [
  {
   "cell_type": "code",
   "execution_count": null,
   "metadata": {},
   "outputs": [],
   "source": [
    "# default_exp wide_and_deep"
   ]
  },
  {
   "cell_type": "code",
   "execution_count": 20,
   "metadata": {
    "colab": {},
    "colab_type": "code",
    "id": "qWfsKVfeCZmz"
   },
   "outputs": [],
   "source": [
    "import pandas as pd\n",
    "from pathlib import Path # 统一路径，文件管理\n",
    "mypath = Path(\"../output\")\n",
    "\n",
    "import numpy as np"
   ]
  },
  {
   "cell_type": "markdown",
   "metadata": {},
   "source": [
    "## 数据描述"
   ]
  },
  {
   "cell_type": "code",
   "execution_count": 21,
   "metadata": {
    "colab": {},
    "colab_type": "code",
    "id": "a8-7L2yHCccB"
   },
   "outputs": [],
   "source": [
    "# wide inputs\n",
    "X_train_wide = pd.read_csv(mypath/\"train_features.csv\", index_col=0)"
   ]
  },
  {
   "cell_type": "code",
   "execution_count": 22,
   "metadata": {},
   "outputs": [
    {
     "data": {
      "text/html": [
       "<div>\n",
       "<style scoped>\n",
       "    .dataframe tbody tr th:only-of-type {\n",
       "        vertical-align: middle;\n",
       "    }\n",
       "\n",
       "    .dataframe tbody tr th {\n",
       "        vertical-align: top;\n",
       "    }\n",
       "\n",
       "    .dataframe thead th {\n",
       "        text-align: right;\n",
       "    }\n",
       "</style>\n",
       "<table border=\"1\" class=\"dataframe\">\n",
       "  <thead>\n",
       "    <tr style=\"text-align: right;\">\n",
       "      <th></th>\n",
       "      <th>Clip</th>\n",
       "      <th>Activity</th>\n",
       "      <th>Assessment</th>\n",
       "      <th>Game</th>\n",
       "      <th>session_title</th>\n",
       "      <th>accumulated_correct_attempts</th>\n",
       "      <th>accumulated_uncorrect_attempts</th>\n",
       "      <th>duration_mean</th>\n",
       "      <th>accumulated_accuracy</th>\n",
       "      <th>accuracy_group</th>\n",
       "      <th>0</th>\n",
       "      <th>1</th>\n",
       "      <th>2</th>\n",
       "      <th>3</th>\n",
       "      <th>accumulated_accuracy_group</th>\n",
       "      <th>accumulated_actions</th>\n",
       "    </tr>\n",
       "  </thead>\n",
       "  <tbody>\n",
       "    <tr>\n",
       "      <th>0</th>\n",
       "      <td>11</td>\n",
       "      <td>3</td>\n",
       "      <td>0</td>\n",
       "      <td>4</td>\n",
       "      <td>21</td>\n",
       "      <td>0</td>\n",
       "      <td>0</td>\n",
       "      <td>0.00</td>\n",
       "      <td>0.0</td>\n",
       "      <td>3</td>\n",
       "      <td>0</td>\n",
       "      <td>0</td>\n",
       "      <td>0</td>\n",
       "      <td>0</td>\n",
       "      <td>0.0</td>\n",
       "      <td>647</td>\n",
       "    </tr>\n",
       "    <tr>\n",
       "      <th>1</th>\n",
       "      <td>14</td>\n",
       "      <td>4</td>\n",
       "      <td>1</td>\n",
       "      <td>6</td>\n",
       "      <td>20</td>\n",
       "      <td>1</td>\n",
       "      <td>0</td>\n",
       "      <td>39.00</td>\n",
       "      <td>1.0</td>\n",
       "      <td>0</td>\n",
       "      <td>0</td>\n",
       "      <td>0</td>\n",
       "      <td>0</td>\n",
       "      <td>1</td>\n",
       "      <td>3.0</td>\n",
       "      <td>1143</td>\n",
       "    </tr>\n",
       "    <tr>\n",
       "      <th>2</th>\n",
       "      <td>14</td>\n",
       "      <td>4</td>\n",
       "      <td>2</td>\n",
       "      <td>6</td>\n",
       "      <td>21</td>\n",
       "      <td>1</td>\n",
       "      <td>11</td>\n",
       "      <td>65.50</td>\n",
       "      <td>0.5</td>\n",
       "      <td>3</td>\n",
       "      <td>1</td>\n",
       "      <td>0</td>\n",
       "      <td>0</td>\n",
       "      <td>1</td>\n",
       "      <td>1.5</td>\n",
       "      <td>1230</td>\n",
       "    </tr>\n",
       "    <tr>\n",
       "      <th>3</th>\n",
       "      <td>24</td>\n",
       "      <td>9</td>\n",
       "      <td>4</td>\n",
       "      <td>10</td>\n",
       "      <td>21</td>\n",
       "      <td>2</td>\n",
       "      <td>11</td>\n",
       "      <td>41.25</td>\n",
       "      <td>0.5</td>\n",
       "      <td>2</td>\n",
       "      <td>2</td>\n",
       "      <td>0</td>\n",
       "      <td>0</td>\n",
       "      <td>2</td>\n",
       "      <td>1.5</td>\n",
       "      <td>2159</td>\n",
       "    </tr>\n",
       "    <tr>\n",
       "      <th>4</th>\n",
       "      <td>28</td>\n",
       "      <td>10</td>\n",
       "      <td>5</td>\n",
       "      <td>13</td>\n",
       "      <td>20</td>\n",
       "      <td>3</td>\n",
       "      <td>12</td>\n",
       "      <td>39.20</td>\n",
       "      <td>0.5</td>\n",
       "      <td>3</td>\n",
       "      <td>2</td>\n",
       "      <td>0</td>\n",
       "      <td>1</td>\n",
       "      <td>2</td>\n",
       "      <td>1.6</td>\n",
       "      <td>2586</td>\n",
       "    </tr>\n",
       "  </tbody>\n",
       "</table>\n",
       "</div>"
      ],
      "text/plain": [
       "   Clip  Activity  Assessment  Game  session_title  \\\n",
       "0    11         3           0     4             21   \n",
       "1    14         4           1     6             20   \n",
       "2    14         4           2     6             21   \n",
       "3    24         9           4    10             21   \n",
       "4    28        10           5    13             20   \n",
       "\n",
       "   accumulated_correct_attempts  accumulated_uncorrect_attempts  \\\n",
       "0                             0                               0   \n",
       "1                             1                               0   \n",
       "2                             1                              11   \n",
       "3                             2                              11   \n",
       "4                             3                              12   \n",
       "\n",
       "   duration_mean  accumulated_accuracy  accuracy_group  0  1  2  3  \\\n",
       "0           0.00                   0.0               3  0  0  0  0   \n",
       "1          39.00                   1.0               0  0  0  0  1   \n",
       "2          65.50                   0.5               3  1  0  0  1   \n",
       "3          41.25                   0.5               2  2  0  0  2   \n",
       "4          39.20                   0.5               3  2  0  1  2   \n",
       "\n",
       "   accumulated_accuracy_group  accumulated_actions  \n",
       "0                         0.0                  647  \n",
       "1                         3.0                 1143  \n",
       "2                         1.5                 1230  \n",
       "3                         1.5                 2159  \n",
       "4                         1.6                 2586  "
      ]
     },
     "execution_count": 22,
     "metadata": {},
     "output_type": "execute_result"
    }
   ],
   "source": [
    "X_train_wide.head()"
   ]
  },
  {
   "cell_type": "code",
   "execution_count": 23,
   "metadata": {},
   "outputs": [
    {
     "name": "stdout",
     "output_type": "stream",
     "text": [
      "(17690, 16)\n"
     ]
    }
   ],
   "source": [
    "print(X_train_wide.shape)"
   ]
  },
  {
   "cell_type": "code",
   "execution_count": 24,
   "metadata": {},
   "outputs": [],
   "source": [
    "## deep inputs\n",
    "X_train_deep = np.load(mypath/\"embedding-train-x.npy\")\n",
    "Y_train = np.load(mypath/\"embedding-train-y.npy\")"
   ]
  },
  {
   "cell_type": "code",
   "execution_count": 29,
   "metadata": {},
   "outputs": [
    {
     "data": {
      "text/plain": [
       "array([[ 0,  0,  0, ..., 22,  3, 17],\n",
       "       [ 0,  0,  0, ..., 23, 32,  4],\n",
       "       [ 0,  0,  0, ...,  3,  3, 19],\n",
       "       [ 0,  0,  0, ..., 13, 13, 19],\n",
       "       [ 0,  0,  0, ..., 64,  4, 83]])"
      ]
     },
     "execution_count": 29,
     "metadata": {},
     "output_type": "execute_result"
    }
   ],
   "source": [
    "X_train_deep[0:5]"
   ]
  },
  {
   "cell_type": "code",
   "execution_count": 25,
   "metadata": {
    "colab": {},
    "colab_type": "code",
    "id": "ENeThW2vkeEp"
   },
   "outputs": [
    {
     "name": "stdout",
     "output_type": "stream",
     "text": [
      "(17690, 500)\n"
     ]
    }
   ],
   "source": [
    "print(X_train_deep.shape)"
   ]
  },
  {
   "cell_type": "markdown",
   "metadata": {},
   "source": [
    "保证 inputs dim 一致"
   ]
  },
  {
   "cell_type": "code",
   "execution_count": 27,
   "metadata": {
    "scrolled": true
   },
   "outputs": [
    {
     "data": {
      "text/plain": [
       "array([[0, 0, 0, 1],\n",
       "       [1, 0, 0, 0],\n",
       "       [0, 0, 0, 1],\n",
       "       ...,\n",
       "       [0, 1, 0, 0],\n",
       "       [1, 0, 0, 0],\n",
       "       [0, 1, 0, 0]], dtype=uint8)"
      ]
     },
     "execution_count": 27,
     "metadata": {},
     "output_type": "execute_result"
    }
   ],
   "source": [
    "Y_train"
   ]
  },
  {
   "cell_type": "markdown",
   "metadata": {},
   "source": [
    "## encoding"
   ]
  },
  {
   "cell_type": "code",
   "execution_count": 33,
   "metadata": {},
   "outputs": [],
   "source": [
    "indices = np.arange(X_train_wide.shape[0]) # 起始随机状态\n",
    "np.random.shuffle(indices)"
   ]
  },
  {
   "cell_type": "code",
   "execution_count": 34,
   "metadata": {
    "colab": {},
    "colab_type": "code",
    "id": "XkuiorQz3Fqb"
   },
   "outputs": [],
   "source": [
    "training_samples = int(len(indices) * .8)\n",
    "validation_samples = len(indices) - training_samples"
   ]
  },
  {
   "cell_type": "code",
   "execution_count": 35,
   "metadata": {
    "colab": {},
    "colab_type": "code",
    "id": "K7-cjA_V3Lhr"
   },
   "outputs": [
    {
     "name": "stdout",
     "output_type": "stream",
     "text": [
      "14152 3538\n"
     ]
    }
   ],
   "source": [
    "print(training_samples, validation_samples)"
   ]
  },
  {
   "cell_type": "markdown",
   "metadata": {},
   "source": [
    "## 训练集和测试集切分"
   ]
  },
  {
   "cell_type": "code",
   "execution_count": 37,
   "metadata": {},
   "outputs": [],
   "source": [
    "X_train_wide_tr, X_train_wide_va = X_train_wide[:training_samples], X_train_wide[training_samples: training_samples + validation_samples]"
   ]
  },
  {
   "cell_type": "code",
   "execution_count": 38,
   "metadata": {},
   "outputs": [],
   "source": [
    "Y_train_tr, Y_train_va = Y_train[:training_samples], Y_train[training_samples: training_samples + validation_samples]"
   ]
  },
  {
   "cell_type": "code",
   "execution_count": 39,
   "metadata": {},
   "outputs": [],
   "source": [
    "X_train_deep_tr, X_train_deep_va = X_train_deep[:training_samples], X_train_deep[training_samples: training_samples + validation_samples]"
   ]
  },
  {
   "cell_type": "markdown",
   "metadata": {},
   "source": [
    "`training_samples: training_samples + validation_samples`等于从`training_samples`到`training_samples + validation_samples`"
   ]
  },
  {
   "cell_type": "code",
   "execution_count": 40,
   "metadata": {},
   "outputs": [
    {
     "data": {
      "text/plain": [
       "(14152, 500)"
      ]
     },
     "execution_count": 40,
     "metadata": {},
     "output_type": "execute_result"
    }
   ],
   "source": [
    "X_train_deep_tr.shape"
   ]
  },
  {
   "cell_type": "code",
   "execution_count": 41,
   "metadata": {},
   "outputs": [
    {
     "name": "stderr",
     "output_type": "stream",
     "text": [
      "Using TensorFlow backend.\n"
     ]
    }
   ],
   "source": [
    "from keras.models import Sequential\n",
    "from keras.layers import Embedding, Flatten, Dense, LSTM, Dropout, Bidirectional\n",
    "from keras import layers\n",
    "import keras"
   ]
  },
  {
   "cell_type": "markdown",
   "metadata": {},
   "source": [
    "## wide model"
   ]
  },
  {
   "cell_type": "code",
   "execution_count": 42,
   "metadata": {},
   "outputs": [],
   "source": [
    "wide_input_len = X_train_wide.shape[1]"
   ]
  },
  {
   "cell_type": "code",
   "execution_count": 46,
   "metadata": {},
   "outputs": [],
   "source": [
    "y_len = Y_train.shape[1]"
   ]
  },
  {
   "cell_type": "code",
   "execution_count": 47,
   "metadata": {},
   "outputs": [],
   "source": [
    "variety_inputs = layers.Input(shape=(wide_input_len,))\n",
    "merged_layer = layers.Dense(256, activation='relu')(variety_inputs)\n",
    "predictions = layers.Dense(y_len, activation='softmax')(merged_layer)\n",
    "wide_model = keras.Model(inputs=variety_inputs, outputs=predictions)"
   ]
  },
  {
   "cell_type": "code",
   "execution_count": 48,
   "metadata": {},
   "outputs": [
    {
     "name": "stdout",
     "output_type": "stream",
     "text": [
      "Model: \"model_2\"\n",
      "_________________________________________________________________\n",
      "Layer (type)                 Output Shape              Param #   \n",
      "=================================================================\n",
      "input_2 (InputLayer)         (None, 16)                0         \n",
      "_________________________________________________________________\n",
      "dense_3 (Dense)              (None, 256)               4352      \n",
      "_________________________________________________________________\n",
      "dense_4 (Dense)              (None, 4)                 1028      \n",
      "=================================================================\n",
      "Total params: 5,380\n",
      "Trainable params: 5,380\n",
      "Non-trainable params: 0\n",
      "_________________________________________________________________\n",
      "None\n"
     ]
    }
   ],
   "source": [
    "wide_model.compile(loss='categorical_crossentropy', optimizer='adam', metrics=['accuracy'])\n",
    "print(wide_model.summary())"
   ]
  },
  {
   "cell_type": "markdown",
   "metadata": {},
   "source": [
    "## deep model"
   ]
  },
  {
   "cell_type": "code",
   "execution_count": 56,
   "metadata": {},
   "outputs": [],
   "source": [
    "input_length = X_train_deep.shape[1]\n",
    "em_n_rows = 1000\n",
    "em_n_cols = 100"
   ]
  },
  {
   "cell_type": "code",
   "execution_count": 57,
   "metadata": {},
   "outputs": [
    {
     "name": "stdout",
     "output_type": "stream",
     "text": [
      "Model: \"model_3\"\n",
      "__________________________________________________________________________________________________\n",
      "Layer (type)                    Output Shape         Param #     Connected to                     \n",
      "==================================================================================================\n",
      "main_input (InputLayer)         (None, 500)          0                                            \n",
      "__________________________________________________________________________________________________\n",
      "embedding_layer (Embedding)     (None, 500, 100)     100000      main_input[0][0]                 \n",
      "__________________________________________________________________________________________________\n",
      "dropout_3 (Dropout)             multiple             0           embedding_layer[0][0]            \n",
      "                                                                 bidirectional_1[0][0]            \n",
      "__________________________________________________________________________________________________\n",
      "bidirectional_1 (Bidirectional) (None, 32)           14976       dropout_3[0][0]                  \n",
      "__________________________________________________________________________________________________\n",
      "dense_5 (Dense)                 (None, 4)            132         dropout_3[1][0]                  \n",
      "==================================================================================================\n",
      "Total params: 115,108\n",
      "Trainable params: 115,108\n",
      "Non-trainable params: 0\n",
      "__________________________________________________________________________________________________\n",
      "None\n"
     ]
    }
   ],
   "source": [
    "embedding_layer = Embedding(input_dim=em_n_rows,\n",
    "                            output_dim=em_n_cols, \n",
    "                            input_length=input_length,\n",
    "                            name='embedding_layer')\n",
    "dropout_layer = Dropout(0.2)\n",
    "i = layers.Input(shape=(input_length,), dtype='int32', name='main_input')\n",
    "x = embedding_layer(i)\n",
    "x = dropout_layer(x)\n",
    "LSTM_units = 16\n",
    "x = Bidirectional(LSTM(units=LSTM_units, dropout=0.2, recurrent_dropout=0.2, input_shape=(em_n_rows, em_n_cols)))(x)\n",
    "x = dropout_layer(x)\n",
    "# x = Flatten()(x)\n",
    "o = Dense(y_len, activation='softmax')(x)\n",
    "deep_model = keras.Model(inputs=i, outputs=o)\n",
    "print(deep_model.summary())"
   ]
  },
  {
   "cell_type": "code",
   "execution_count": 58,
   "metadata": {},
   "outputs": [],
   "source": [
    "deep_model.compile(loss='categorical_crossentropy', optimizer='adam', metrics=['accuracy'])"
   ]
  },
  {
   "cell_type": "markdown",
   "metadata": {},
   "source": [
    "## 模型合并"
   ]
  },
  {
   "cell_type": "code",
   "execution_count": 59,
   "metadata": {},
   "outputs": [
    {
     "name": "stdout",
     "output_type": "stream",
     "text": [
      "Model: \"model_4\"\n",
      "__________________________________________________________________________________________________\n",
      "Layer (type)                    Output Shape         Param #     Connected to                     \n",
      "==================================================================================================\n",
      "main_input (InputLayer)         (None, 500)          0                                            \n",
      "__________________________________________________________________________________________________\n",
      "embedding_layer (Embedding)     (None, 500, 100)     100000      main_input[0][0]                 \n",
      "__________________________________________________________________________________________________\n",
      "dropout_3 (Dropout)             multiple             0           embedding_layer[0][0]            \n",
      "                                                                 bidirectional_1[0][0]            \n",
      "__________________________________________________________________________________________________\n",
      "input_2 (InputLayer)            (None, 16)           0                                            \n",
      "__________________________________________________________________________________________________\n",
      "bidirectional_1 (Bidirectional) (None, 32)           14976       dropout_3[0][0]                  \n",
      "__________________________________________________________________________________________________\n",
      "dense_3 (Dense)                 (None, 256)          4352        input_2[0][0]                    \n",
      "__________________________________________________________________________________________________\n",
      "dense_4 (Dense)                 (None, 4)            1028        dense_3[0][0]                    \n",
      "__________________________________________________________________________________________________\n",
      "dense_5 (Dense)                 (None, 4)            132         dropout_3[1][0]                  \n",
      "__________________________________________________________________________________________________\n",
      "concatenate_1 (Concatenate)     (None, 8)            0           dense_4[0][0]                    \n",
      "                                                                 dense_5[0][0]                    \n",
      "__________________________________________________________________________________________________\n",
      "dense_6 (Dense)                 (None, 4)            36          concatenate_1[0][0]              \n",
      "==================================================================================================\n",
      "Total params: 120,524\n",
      "Trainable params: 120,524\n",
      "Non-trainable params: 0\n",
      "__________________________________________________________________________________________________\n",
      "None\n"
     ]
    }
   ],
   "source": [
    "# Combine wide and deep into one model\n",
    "merged_out = layers.concatenate([wide_model.output, deep_model.output])\n",
    "merged_out = layers.Dense(y_len, activation='softmax')(merged_out)\n",
    "combined_model = keras.Model([wide_model.input] + [deep_model.input], merged_out)\n",
    "print(combined_model.summary())\n",
    "\n",
    "combined_model.compile(loss='categorical_crossentropy', optimizer='adam', metrics=['accuracy'])"
   ]
  },
  {
   "cell_type": "code",
   "execution_count": 62,
   "metadata": {},
   "outputs": [
    {
     "name": "stderr",
     "output_type": "stream",
     "text": [
      "D:\\install\\miniconda\\lib\\site-packages\\tensorflow_core\\python\\framework\\indexed_slices.py:424: UserWarning: Converting sparse IndexedSlices to a dense Tensor of unknown shape. This may consume a large amount of memory.\n",
      "  \"Converting sparse IndexedSlices to a dense Tensor of unknown shape. \"\n"
     ]
    },
    {
     "name": "stdout",
     "output_type": "stream",
     "text": [
      "Train on 14152 samples, validate on 3538 samples\n",
      "Epoch 1/20\n",
      "14152/14152 [==============================] - 204s 14ms/step - loss: 1.0895 - accuracy: 0.6080 - val_loss: 0.9386 - val_accuracy: 0.6718\n",
      "Epoch 2/20\n",
      "14152/14152 [==============================] - 184s 13ms/step - loss: 0.8827 - accuracy: 0.7154 - val_loss: 0.8292 - val_accuracy: 0.7306\n",
      "Epoch 3/20\n",
      "14152/14152 [==============================] - 186s 13ms/step - loss: 0.8082 - accuracy: 0.7337 - val_loss: 0.7774 - val_accuracy: 0.7459\n",
      "Epoch 4/20\n",
      "14152/14152 [==============================] - 185s 13ms/step - loss: 0.7729 - accuracy: 0.7417 - val_loss: 0.7380 - val_accuracy: 0.7527\n",
      "Epoch 5/20\n",
      "14152/14152 [==============================] - 175s 12ms/step - loss: 0.7519 - accuracy: 0.7422 - val_loss: 0.7276 - val_accuracy: 0.7533\n",
      "Epoch 6/20\n",
      "14152/14152 [==============================] - 160s 11ms/step - loss: 0.7263 - accuracy: 0.7460 - val_loss: 0.7040 - val_accuracy: 0.7614\n",
      "Epoch 7/20\n",
      "14152/14152 [==============================] - 160s 11ms/step - loss: 0.7133 - accuracy: 0.7495 - val_loss: 0.6902 - val_accuracy: 0.7620\n",
      "Epoch 8/20\n",
      "14152/14152 [==============================] - 161s 11ms/step - loss: 0.6984 - accuracy: 0.7523 - val_loss: 0.6810 - val_accuracy: 0.7623\n",
      "Epoch 9/20\n",
      "14152/14152 [==============================] - 160s 11ms/step - loss: 0.6910 - accuracy: 0.7506 - val_loss: 0.6726 - val_accuracy: 0.7634\n",
      "Epoch 10/20\n",
      "14152/14152 [==============================] - 159s 11ms/step - loss: 0.6810 - accuracy: 0.7562 - val_loss: 0.6610 - val_accuracy: 0.7711\n",
      "Epoch 11/20\n",
      "14152/14152 [==============================] - 160s 11ms/step - loss: 0.6725 - accuracy: 0.7579 - val_loss: 0.6613 - val_accuracy: 0.7694\n",
      "Epoch 12/20\n",
      "14152/14152 [==============================] - 159s 11ms/step - loss: 0.6683 - accuracy: 0.7583 - val_loss: 0.6544 - val_accuracy: 0.7722\n",
      "Epoch 13/20\n",
      "14152/14152 [==============================] - 160s 11ms/step - loss: 0.6626 - accuracy: 0.7580 - val_loss: 0.6472 - val_accuracy: 0.7702\n",
      "Epoch 14/20\n",
      "14152/14152 [==============================] - 161s 11ms/step - loss: 0.6554 - accuracy: 0.7600 - val_loss: 0.6463 - val_accuracy: 0.7705\n",
      "Epoch 15/20\n",
      "14152/14152 [==============================] - 159s 11ms/step - loss: 0.6496 - accuracy: 0.7617 - val_loss: 0.6412 - val_accuracy: 0.7626\n",
      "Epoch 16/20\n",
      "14152/14152 [==============================] - 160s 11ms/step - loss: 0.6480 - accuracy: 0.7610 - val_loss: 0.6395 - val_accuracy: 0.7674\n",
      "Epoch 17/20\n",
      "14152/14152 [==============================] - 162s 11ms/step - loss: 0.6466 - accuracy: 0.7632 - val_loss: 0.6370 - val_accuracy: 0.7663\n",
      "Epoch 18/20\n",
      "14152/14152 [==============================] - 161s 11ms/step - loss: 0.6420 - accuracy: 0.7602 - val_loss: 0.6359 - val_accuracy: 0.7694\n",
      "Epoch 19/20\n",
      "14152/14152 [==============================] - 161s 11ms/step - loss: 0.6429 - accuracy: 0.7630 - val_loss: 0.6365 - val_accuracy: 0.7696\n",
      "Epoch 20/20\n",
      "14152/14152 [==============================] - 160s 11ms/step - loss: 0.6379 - accuracy: 0.7643 - val_loss: 0.6338 - val_accuracy: 0.7705\n"
     ]
    }
   ],
   "source": [
    "# Run training\n",
    "history = combined_model.fit([X_train_wide_tr] + [X_train_deep_tr], Y_train_tr, epochs=20, batch_size=32, \n",
    "                   validation_data=([X_train_wide_va] + [X_train_deep_va], Y_train_va))\n",
    "\n",
    "# 有监督的学习\n",
    "combined_model.save(mypath/\"keras-wide_and_deep-v.1.0.0.h5\")"
   ]
  },
  {
   "cell_type": "markdown",
   "metadata": {},
   "source": [
    "模型融合后并不理想。"
   ]
  },
  {
   "cell_type": "code",
   "execution_count": 64,
   "metadata": {},
   "outputs": [
    {
     "name": "stdout",
     "output_type": "stream",
     "text": [
      "14152/14152 [==============================] - 29s 2ms/step\n",
      "Test set\n",
      "  Loss: 0.612\n",
      "  Accuracy: 0.775\n",
      "3538/3538 [==============================] - 7s 2ms/step\n",
      "Test set\n",
      "  Loss: 0.634\n",
      "  Accuracy: 0.770\n"
     ]
    }
   ],
   "source": [
    "accr = combined_model.evaluate([X_train_wide_tr] + [X_train_deep_tr], Y_train_tr)\n",
    "print('Test set\\n  Loss: {:0.3f}\\n  Accuracy: {:0.3f}'.format(accr[0],accr[1]))\n",
    "accr = combined_model.evaluate([X_train_wide_va] + [X_train_deep_va], Y_train_va)\n",
    "print('Test set\\n  Loss: {:0.3f}\\n  Accuracy: {:0.3f}'.format(accr[0],accr[1]))"
   ]
  },
  {
   "cell_type": "markdown",
   "metadata": {},
   "source": [
    "没有过拟合。"
   ]
  },
  {
   "cell_type": "code",
   "execution_count": 67,
   "metadata": {},
   "outputs": [
    {
     "data": {
      "image/png": "[encoded data removed]",
      "text/plain": [
       "<Figure size 432x288 with 1 Axes>"
      ]
     },
     "metadata": {
      "needs_background": "light"
     },
     "output_type": "display_data"
    }
   ],
   "source": [
    "import matplotlib.pyplot as plt\n",
    "plt.title('Loss')\n",
    "plt.plot(history.history['loss'], label='train')\n",
    "plt.plot(history.history['val_loss'], label='test')\n",
    "plt.legend()\n",
    "plt.show();"
   ]
  }
 ],
 "metadata": {
  "accelerator": "TPU",
  "colab": {
   "collapsed_sections": [],
   "name": "demo.ipynb",
   "provenance": [],
   "version": "0.3.2"
  },
  "kernel_info": {
   "name": "python3"
  },
  "kernelspec": {
   "display_name": "Python 3",
   "language": "python",
   "name": "python3"
  },
  "language_info": {
   "codemirror_mode": {
    "name": "ipython",
    "version": 3
   },
   "file_extension": ".py",
   "mimetype": "text/x-python",
   "name": "python",
   "nbconvert_exporter": "python",
   "pygments_lexer": "ipython3",
   "version": "3.7.3"
  },
  "latex_envs": {
   "LaTeX_envs_menu_present": true,
   "autoclose": true,
   "autocomplete": true,
   "bibliofile": "biblio.bib",
   "cite_by": "apalike",
   "current_citInitial": 1,
   "eqLabelWithNumbers": true,
   "eqNumInitial": 1,
   "hotkeys": {
    "equation": "Ctrl-E",
    "itemize": "Ctrl-I"
   },
   "labels_anchors": false,
   "latex_user_defs": false,
   "report_style_numbering": false,
   "user_envs_cfg": false
  },
  "nteract": {
   "version": "0.12.3"
  }
 },
 "nbformat": 4,
 "nbformat_minor": 1
}
