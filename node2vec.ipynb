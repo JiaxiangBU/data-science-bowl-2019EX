{
 "cells": [
  {
   "cell_type": "code",
   "execution_count": 2,
   "metadata": {},
   "outputs": [],
   "source": [
    "import pandas as pd\n",
    "import numpy as np\n",
    "import itertools\n",
    "from sklearn.cluster import KMeans\n",
    "import pprint"
   ]
  },
  {
   "cell_type": "markdown",
   "metadata": {},
   "source": [
    "## 1. Prepare input for node2vec\n",
    "\n",
    "> We'll use a CSV file where each row represents a single recommendable item: it contains a comma separated list of the named entities that appear in the item's title.\n",
    "\n",
    "一个样本为一个序列特征。"
   ]
  },
  {
   "cell_type": "code",
   "execution_count": 59,
   "metadata": {},
   "outputs": [
    {
     "data": {
      "text/html": [
       "<div>\n",
       "<style scoped>\n",
       "    .dataframe tbody tr th:only-of-type {\n",
       "        vertical-align: middle;\n",
       "    }\n",
       "\n",
       "    .dataframe tbody tr th {\n",
       "        vertical-align: top;\n",
       "    }\n",
       "\n",
       "    .dataframe thead th {\n",
       "        text-align: right;\n",
       "    }\n",
       "</style>\n",
       "<table border=\"1\" class=\"dataframe\">\n",
       "  <thead>\n",
       "    <tr style=\"text-align: right;\">\n",
       "      <th></th>\n",
       "      <th>named_entities</th>\n",
       "    </tr>\n",
       "  </thead>\n",
       "  <tbody>\n",
       "    <tr>\n",
       "      <th>0</th>\n",
       "      <td>3bfd1a65 a52b92d5 7da34a02 25fa8af4</td>\n",
       "    </tr>\n",
       "    <tr>\n",
       "      <th>1</th>\n",
       "      <td>f56e0afc ec138c1c 4a4c3d21 e37a2b78 17113b36 4...</td>\n",
       "    </tr>\n",
       "    <tr>\n",
       "      <th>2</th>\n",
       "      <td>c74f40cd c74f40cd a52b92d5 7da34a02 7da34a02 f...</td>\n",
       "    </tr>\n",
       "    <tr>\n",
       "      <th>3</th>\n",
       "      <td>3bfd1a65 a1e4395d c74f40cd 28ed704e a1e4395d 7...</td>\n",
       "    </tr>\n",
       "    <tr>\n",
       "      <th>4</th>\n",
       "      <td>7525289a f6947f54 bdf49a58</td>\n",
       "    </tr>\n",
       "  </tbody>\n",
       "</table>\n",
       "</div>"
      ],
      "text/plain": [
       "                                      named_entities\n",
       "0                3bfd1a65 a52b92d5 7da34a02 25fa8af4\n",
       "1  f56e0afc ec138c1c 4a4c3d21 e37a2b78 17113b36 4...\n",
       "2  c74f40cd c74f40cd a52b92d5 7da34a02 7da34a02 f...\n",
       "3  3bfd1a65 a1e4395d c74f40cd 28ed704e a1e4395d 7...\n",
       "4                         7525289a f6947f54 bdf49a58"
      ]
     },
     "execution_count": 59,
     "metadata": {},
     "output_type": "execute_result"
    }
   ],
   "source": [
    "named_entities_df = pd.read_csv('../output/event_features.csv')\n",
    "named_entities_df.columns = ['named_entities']\n",
    "# named_entities_df['named_entities'] = named_entities_df.named_entities.str.replace(\" \", \",\")\n",
    "# 为了适配代码才做的\n",
    "named_entities_df.head()"
   ]
  },
  {
   "cell_type": "markdown",
   "metadata": {},
   "source": [
    "> First, we'll have to tokenize the named entities, since `node2vec` expects integers.\n",
    "\n",
    "处理成节点特征。"
   ]
  },
  {
   "cell_type": "code",
   "execution_count": 60,
   "metadata": {},
   "outputs": [
    {
     "data": {
      "text/html": [
       "<div>\n",
       "<style scoped>\n",
       "    .dataframe tbody tr th:only-of-type {\n",
       "        vertical-align: middle;\n",
       "    }\n",
       "\n",
       "    .dataframe tbody tr th {\n",
       "        vertical-align: top;\n",
       "    }\n",
       "\n",
       "    .dataframe thead th {\n",
       "        text-align: right;\n",
       "    }\n",
       "</style>\n",
       "<table border=\"1\" class=\"dataframe\">\n",
       "  <thead>\n",
       "    <tr style=\"text-align: right;\">\n",
       "      <th></th>\n",
       "      <th>named_entities</th>\n",
       "    </tr>\n",
       "  </thead>\n",
       "  <tbody>\n",
       "    <tr>\n",
       "      <th>0</th>\n",
       "      <td>[0, 1, 2, 3]</td>\n",
       "    </tr>\n",
       "    <tr>\n",
       "      <th>1</th>\n",
       "      <td>[4, 5, 6, 7, 8, 6, 9, 6, 7, 8, 8, 9, 9, 6]</td>\n",
       "    </tr>\n",
       "    <tr>\n",
       "      <th>2</th>\n",
       "      <td>[10, 10, 1, 2, 2, 11, 12, 10]</td>\n",
       "    </tr>\n",
       "    <tr>\n",
       "      <th>3</th>\n",
       "      <td>[0, 13, 10, 14, 13, 2, 12, 15]</td>\n",
       "    </tr>\n",
       "    <tr>\n",
       "      <th>4</th>\n",
       "      <td>[16, 17, 18]</td>\n",
       "    </tr>\n",
       "  </tbody>\n",
       "</table>\n",
       "</div>"
      ],
      "text/plain": [
       "                               named_entities\n",
       "0                                [0, 1, 2, 3]\n",
       "1  [4, 5, 6, 7, 8, 6, 9, 6, 7, 8, 8, 9, 9, 6]\n",
       "2               [10, 10, 1, 2, 2, 11, 12, 10]\n",
       "3              [0, 13, 10, 14, 13, 2, 12, 15]\n",
       "4                                [16, 17, 18]"
      ]
     },
     "execution_count": 60,
     "metadata": {},
     "output_type": "execute_result"
    }
   ],
   "source": [
    "tokenizer = dict()\n",
    "named_entities_df['named_entities'] = named_entities_df['named_entities'].astype(str).apply(\n",
    "    lambda named_entities: [tokenizer.setdefault(named_entitie, len(tokenizer)) for named_entitie in named_entities.split(' ')]\n",
    ")\n",
    "named_entities_df.head()\n",
    "# https://blog.csdn.net/u012535605/article/details/81709834\n",
    "# astype(str)"
   ]
  },
  {
   "cell_type": "code",
   "execution_count": 61,
   "metadata": {},
   "outputs": [
    {
     "name": "stdout",
     "output_type": "stream",
     "text": [
      "[('3bfd1a65', 0),\n",
      " ('a52b92d5', 1),\n",
      " ('7da34a02', 2),\n",
      " ('25fa8af4', 3),\n",
      " ('f56e0afc', 4)]\n"
     ]
    }
   ],
   "source": [
    "pprint.pprint(list(tokenizer.items())[0:5])"
   ]
  },
  {
   "cell_type": "code",
   "execution_count": 92,
   "metadata": {},
   "outputs": [
    {
     "name": "stdout",
     "output_type": "stream",
     "text": [
      "一共有 98 event 对它们进行 embedding\n"
     ]
    }
   ],
   "source": [
    "print( '一共有',len(list(tokenizer.items())) ,'event','对它们进行 embedding')"
   ]
  },
  {
   "cell_type": "markdown",
   "metadata": {},
   "source": [
    "In order to construct the graph on which we'll run node2vec, we first need to understand which named entities appear together."
   ]
  },
  {
   "cell_type": "code",
   "execution_count": 70,
   "metadata": {},
   "outputs": [
    {
     "data": {
      "text/plain": [
       "(17690, 1)"
      ]
     },
     "execution_count": 70,
     "metadata": {},
     "output_type": "execute_result"
    }
   ],
   "source": [
    "named_entities_df.shape"
   ]
  },
  {
   "cell_type": "code",
   "execution_count": 62,
   "metadata": {
    "scrolled": false
   },
   "outputs": [
    {
     "data": {
      "text/html": [
       "<div>\n",
       "<style scoped>\n",
       "    .dataframe tbody tr th:only-of-type {\n",
       "        vertical-align: middle;\n",
       "    }\n",
       "\n",
       "    .dataframe tbody tr th {\n",
       "        vertical-align: top;\n",
       "    }\n",
       "\n",
       "    .dataframe thead th {\n",
       "        text-align: right;\n",
       "    }\n",
       "</style>\n",
       "<table border=\"1\" class=\"dataframe\">\n",
       "  <thead>\n",
       "    <tr style=\"text-align: right;\">\n",
       "      <th></th>\n",
       "      <th>named_entity_1</th>\n",
       "      <th>named_entity_2</th>\n",
       "    </tr>\n",
       "  </thead>\n",
       "  <tbody>\n",
       "    <tr>\n",
       "      <th>0</th>\n",
       "      <td>0</td>\n",
       "      <td>1</td>\n",
       "    </tr>\n",
       "    <tr>\n",
       "      <th>1</th>\n",
       "      <td>0</td>\n",
       "      <td>2</td>\n",
       "    </tr>\n",
       "    <tr>\n",
       "      <th>2</th>\n",
       "      <td>0</td>\n",
       "      <td>3</td>\n",
       "    </tr>\n",
       "    <tr>\n",
       "      <th>3</th>\n",
       "      <td>1</td>\n",
       "      <td>2</td>\n",
       "    </tr>\n",
       "    <tr>\n",
       "      <th>4</th>\n",
       "      <td>1</td>\n",
       "      <td>3</td>\n",
       "    </tr>\n",
       "  </tbody>\n",
       "</table>\n",
       "</div>"
      ],
      "text/plain": [
       "   named_entity_1  named_entity_2\n",
       "0               0               1\n",
       "1               0               2\n",
       "2               0               3\n",
       "3               1               2\n",
       "4               1               3"
      ]
     },
     "execution_count": 62,
     "metadata": {},
     "output_type": "execute_result"
    }
   ],
   "source": [
    "pairs_df = named_entities_df['named_entities'].apply(lambda named_entities: list(itertools.combinations(named_entities, 2)))\n",
    "pairs_df = pairs_df[pairs_df.apply(len) > 0]\n",
    "pairs_df = pd.DataFrame(np.concatenate(pairs_df.values), columns=['named_entity_1', 'named_entity_2'])\n",
    "pairs_df.head()"
   ]
  },
  {
   "cell_type": "code",
   "execution_count": 71,
   "metadata": {},
   "outputs": [
    {
     "data": {
      "text/plain": [
       "(1011209, 2)"
      ]
     },
     "execution_count": 71,
     "metadata": {},
     "output_type": "execute_result"
    }
   ],
   "source": [
    "pairs_df.shape"
   ]
  },
  {
   "cell_type": "markdown",
   "metadata": {},
   "source": [
    "Now we can construct the graph. The weight of an edge connecting two named entities will be the number of times these named entities appear together in our dataset."
   ]
  },
  {
   "cell_type": "code",
   "execution_count": 69,
   "metadata": {},
   "outputs": [
    {
     "data": {
      "text/html": [
       "<div>\n",
       "<style scoped>\n",
       "    .dataframe tbody tr th:only-of-type {\n",
       "        vertical-align: middle;\n",
       "    }\n",
       "\n",
       "    .dataframe tbody tr th {\n",
       "        vertical-align: top;\n",
       "    }\n",
       "\n",
       "    .dataframe thead th {\n",
       "        text-align: right;\n",
       "    }\n",
       "</style>\n",
       "<table border=\"1\" class=\"dataframe\">\n",
       "  <thead>\n",
       "    <tr style=\"text-align: right;\">\n",
       "      <th></th>\n",
       "      <th>named_entity_1</th>\n",
       "      <th>named_entity_2</th>\n",
       "      <th>weight</th>\n",
       "    </tr>\n",
       "  </thead>\n",
       "  <tbody>\n",
       "    <tr>\n",
       "      <th>0</th>\n",
       "      <td>0</td>\n",
       "      <td>1</td>\n",
       "      <td>452</td>\n",
       "    </tr>\n",
       "    <tr>\n",
       "      <th>1</th>\n",
       "      <td>0</td>\n",
       "      <td>2</td>\n",
       "      <td>1251</td>\n",
       "    </tr>\n",
       "    <tr>\n",
       "      <th>2</th>\n",
       "      <td>0</td>\n",
       "      <td>3</td>\n",
       "      <td>229</td>\n",
       "    </tr>\n",
       "    <tr>\n",
       "      <th>3</th>\n",
       "      <td>0</td>\n",
       "      <td>10</td>\n",
       "      <td>454</td>\n",
       "    </tr>\n",
       "    <tr>\n",
       "      <th>4</th>\n",
       "      <td>0</td>\n",
       "      <td>11</td>\n",
       "      <td>645</td>\n",
       "    </tr>\n",
       "  </tbody>\n",
       "</table>\n",
       "</div>"
      ],
      "text/plain": [
       "   named_entity_1  named_entity_2  weight\n",
       "0               0               1     452\n",
       "1               0               2    1251\n",
       "2               0               3     229\n",
       "3               0              10     454\n",
       "4               0              11     645"
      ]
     },
     "execution_count": 69,
     "metadata": {},
     "output_type": "execute_result"
    }
   ],
   "source": [
    "pairs_df.groupby(['named_entity_1', 'named_entity_2']).size().reset_index(name='weight').head()"
   ]
  },
  {
   "cell_type": "code",
   "execution_count": 93,
   "metadata": {},
   "outputs": [
    {
     "data": {
      "text/html": [
       "<div>\n",
       "<style scoped>\n",
       "    .dataframe tbody tr th:only-of-type {\n",
       "        vertical-align: middle;\n",
       "    }\n",
       "\n",
       "    .dataframe tbody tr th {\n",
       "        vertical-align: top;\n",
       "    }\n",
       "\n",
       "    .dataframe thead th {\n",
       "        text-align: right;\n",
       "    }\n",
       "</style>\n",
       "<table border=\"1\" class=\"dataframe\">\n",
       "  <thead>\n",
       "    <tr style=\"text-align: right;\">\n",
       "      <th></th>\n",
       "      <th>named_entity_1</th>\n",
       "      <th>named_entity_2</th>\n",
       "      <th>weight</th>\n",
       "    </tr>\n",
       "  </thead>\n",
       "  <tbody>\n",
       "    <tr>\n",
       "      <th>0</th>\n",
       "      <td>0</td>\n",
       "      <td>1</td>\n",
       "      <td>452</td>\n",
       "    </tr>\n",
       "    <tr>\n",
       "      <th>1</th>\n",
       "      <td>0</td>\n",
       "      <td>2</td>\n",
       "      <td>1251</td>\n",
       "    </tr>\n",
       "    <tr>\n",
       "      <th>2</th>\n",
       "      <td>0</td>\n",
       "      <td>3</td>\n",
       "      <td>229</td>\n",
       "    </tr>\n",
       "    <tr>\n",
       "      <th>3</th>\n",
       "      <td>0</td>\n",
       "      <td>10</td>\n",
       "      <td>454</td>\n",
       "    </tr>\n",
       "    <tr>\n",
       "      <th>4</th>\n",
       "      <td>0</td>\n",
       "      <td>11</td>\n",
       "      <td>645</td>\n",
       "    </tr>\n",
       "  </tbody>\n",
       "</table>\n",
       "</div>"
      ],
      "text/plain": [
       "   named_entity_1  named_entity_2  weight\n",
       "0               0               1     452\n",
       "1               0               2    1251\n",
       "2               0               3     229\n",
       "3               0              10     454\n",
       "4               0              11     645"
      ]
     },
     "execution_count": 93,
     "metadata": {},
     "output_type": "execute_result"
    }
   ],
   "source": [
    "NAMED_ENTITIES_CO_OCCURENCE_THRESHOLD = 0\n",
    "# By default, 25\n",
    "\n",
    "edges_df = pairs_df.groupby(['named_entity_1', 'named_entity_2']).size().reset_index(name='weight')\n",
    "edges_df = edges_df[edges_df['weight'] > NAMED_ENTITIES_CO_OCCURENCE_THRESHOLD]\n",
    "edges_df[['named_entity_1', 'named_entity_2', 'weight']].to_csv('edges.csv', header=False, index=False, sep=' ')\n",
    "# 为了作为文本输入，这里需要按照`' '`进行切分\n",
    "# https://github.com/aditya-grover/node2vec/issues/42\n",
    "edges_df.head()"
   ]
  },
  {
   "cell_type": "code",
   "execution_count": 94,
   "metadata": {},
   "outputs": [
    {
     "data": {
      "text/plain": [
       "(1381, 3)"
      ]
     },
     "execution_count": 94,
     "metadata": {},
     "output_type": "execute_result"
    }
   ],
   "source": [
    "edges_df.shape"
   ]
  },
  {
   "cell_type": "markdown",
   "metadata": {},
   "source": [
    "Next, we'll run `node2vec`, which will output the result embeddings in a file called `emb`.  \n",
    "We'll use the open source implementation developed by [Stanford](https://github.com/snap-stanford/snap/tree/master/examples/node2vec)."
   ]
  },
  {
   "cell_type": "code",
   "execution_count": 95,
   "metadata": {},
   "outputs": [],
   "source": [
    "# !git clone https://github.com/JiaxiangBU/node2vec.git\n",
    "# 下载后，调用 node2vec 代码，基于 word2vec 开发，我调整了 Python 3 版本适用。"
   ]
  },
  {
   "cell_type": "code",
   "execution_count": 96,
   "metadata": {},
   "outputs": [
    {
     "name": "stdout",
     "output_type": "stream",
     "text": [
      "Walk iteration:\n",
      "1 / 10\n",
      "2 / 10\n",
      "3 / 10\n",
      "4 / 10\n",
      "5 / 10\n",
      "6 / 10\n",
      "7 / 10\n",
      "8 / 10\n",
      "9 / 10\n",
      "10 / 10\n"
     ]
    }
   ],
   "source": [
    "!python node2vec/src/main.py --input edges.csv --output emb --weighted"
   ]
  },
  {
   "cell_type": "markdown",
   "metadata": {},
   "source": [
    "## 2. Read embedding and run KMeans clusterring:"
   ]
  },
  {
   "cell_type": "code",
   "execution_count": 97,
   "metadata": {},
   "outputs": [
    {
     "data": {
      "text/html": [
       "<div>\n",
       "<style scoped>\n",
       "    .dataframe tbody tr th:only-of-type {\n",
       "        vertical-align: middle;\n",
       "    }\n",
       "\n",
       "    .dataframe tbody tr th {\n",
       "        vertical-align: top;\n",
       "    }\n",
       "\n",
       "    .dataframe thead th {\n",
       "        text-align: right;\n",
       "    }\n",
       "</style>\n",
       "<table border=\"1\" class=\"dataframe\">\n",
       "  <thead>\n",
       "    <tr style=\"text-align: right;\">\n",
       "      <th></th>\n",
       "      <th>1</th>\n",
       "      <th>2</th>\n",
       "      <th>3</th>\n",
       "      <th>4</th>\n",
       "      <th>5</th>\n",
       "      <th>6</th>\n",
       "      <th>7</th>\n",
       "      <th>8</th>\n",
       "      <th>9</th>\n",
       "      <th>10</th>\n",
       "      <th>...</th>\n",
       "      <th>119</th>\n",
       "      <th>120</th>\n",
       "      <th>121</th>\n",
       "      <th>122</th>\n",
       "      <th>123</th>\n",
       "      <th>124</th>\n",
       "      <th>125</th>\n",
       "      <th>126</th>\n",
       "      <th>127</th>\n",
       "      <th>128</th>\n",
       "    </tr>\n",
       "    <tr>\n",
       "      <th>named_entity</th>\n",
       "      <th></th>\n",
       "      <th></th>\n",
       "      <th></th>\n",
       "      <th></th>\n",
       "      <th></th>\n",
       "      <th></th>\n",
       "      <th></th>\n",
       "      <th></th>\n",
       "      <th></th>\n",
       "      <th></th>\n",
       "      <th></th>\n",
       "      <th></th>\n",
       "      <th></th>\n",
       "      <th></th>\n",
       "      <th></th>\n",
       "      <th></th>\n",
       "      <th></th>\n",
       "      <th></th>\n",
       "      <th></th>\n",
       "      <th></th>\n",
       "      <th></th>\n",
       "    </tr>\n",
       "  </thead>\n",
       "  <tbody>\n",
       "    <tr>\n",
       "      <th>51</th>\n",
       "      <td>0.201396</td>\n",
       "      <td>0.396243</td>\n",
       "      <td>-0.266897</td>\n",
       "      <td>-0.580919</td>\n",
       "      <td>0.309138</td>\n",
       "      <td>-0.215859</td>\n",
       "      <td>0.177556</td>\n",
       "      <td>-0.281016</td>\n",
       "      <td>-0.131219</td>\n",
       "      <td>-0.013089</td>\n",
       "      <td>...</td>\n",
       "      <td>-0.158429</td>\n",
       "      <td>0.280645</td>\n",
       "      <td>0.427394</td>\n",
       "      <td>-0.277015</td>\n",
       "      <td>-0.268398</td>\n",
       "      <td>0.309646</td>\n",
       "      <td>0.308136</td>\n",
       "      <td>0.149765</td>\n",
       "      <td>0.139561</td>\n",
       "      <td>0.137682</td>\n",
       "    </tr>\n",
       "    <tr>\n",
       "      <th>2</th>\n",
       "      <td>-0.377510</td>\n",
       "      <td>0.117800</td>\n",
       "      <td>-0.568410</td>\n",
       "      <td>-0.389599</td>\n",
       "      <td>0.084741</td>\n",
       "      <td>-0.241372</td>\n",
       "      <td>-0.283782</td>\n",
       "      <td>-0.203280</td>\n",
       "      <td>-0.153969</td>\n",
       "      <td>-0.230429</td>\n",
       "      <td>...</td>\n",
       "      <td>0.138216</td>\n",
       "      <td>0.316665</td>\n",
       "      <td>0.105284</td>\n",
       "      <td>-0.261846</td>\n",
       "      <td>-0.602530</td>\n",
       "      <td>0.031347</td>\n",
       "      <td>-0.658672</td>\n",
       "      <td>-0.371573</td>\n",
       "      <td>-0.082173</td>\n",
       "      <td>-0.061790</td>\n",
       "    </tr>\n",
       "    <tr>\n",
       "      <th>35</th>\n",
       "      <td>0.086804</td>\n",
       "      <td>-0.426829</td>\n",
       "      <td>-0.116550</td>\n",
       "      <td>-0.151494</td>\n",
       "      <td>-0.107983</td>\n",
       "      <td>-0.178468</td>\n",
       "      <td>0.257112</td>\n",
       "      <td>-0.354095</td>\n",
       "      <td>0.221099</td>\n",
       "      <td>-0.242830</td>\n",
       "      <td>...</td>\n",
       "      <td>-0.095036</td>\n",
       "      <td>0.616571</td>\n",
       "      <td>0.214014</td>\n",
       "      <td>-0.083181</td>\n",
       "      <td>-0.456401</td>\n",
       "      <td>0.249818</td>\n",
       "      <td>0.158148</td>\n",
       "      <td>0.136226</td>\n",
       "      <td>0.003339</td>\n",
       "      <td>-0.519082</td>\n",
       "    </tr>\n",
       "    <tr>\n",
       "      <th>24</th>\n",
       "      <td>0.049161</td>\n",
       "      <td>-0.354999</td>\n",
       "      <td>-0.165840</td>\n",
       "      <td>0.084412</td>\n",
       "      <td>-0.240874</td>\n",
       "      <td>-0.380403</td>\n",
       "      <td>0.409854</td>\n",
       "      <td>0.238315</td>\n",
       "      <td>-0.265640</td>\n",
       "      <td>-0.333510</td>\n",
       "      <td>...</td>\n",
       "      <td>0.043810</td>\n",
       "      <td>0.042521</td>\n",
       "      <td>0.263100</td>\n",
       "      <td>0.179329</td>\n",
       "      <td>-0.232597</td>\n",
       "      <td>0.271666</td>\n",
       "      <td>0.244623</td>\n",
       "      <td>-0.231822</td>\n",
       "      <td>-0.327294</td>\n",
       "      <td>0.041148</td>\n",
       "    </tr>\n",
       "    <tr>\n",
       "      <th>9</th>\n",
       "      <td>0.034572</td>\n",
       "      <td>-0.339031</td>\n",
       "      <td>-0.173325</td>\n",
       "      <td>0.068606</td>\n",
       "      <td>-0.245434</td>\n",
       "      <td>-0.380075</td>\n",
       "      <td>0.410750</td>\n",
       "      <td>0.238807</td>\n",
       "      <td>-0.279120</td>\n",
       "      <td>-0.341910</td>\n",
       "      <td>...</td>\n",
       "      <td>0.054638</td>\n",
       "      <td>0.022407</td>\n",
       "      <td>0.265012</td>\n",
       "      <td>0.188955</td>\n",
       "      <td>-0.232845</td>\n",
       "      <td>0.279593</td>\n",
       "      <td>0.242585</td>\n",
       "      <td>-0.242018</td>\n",
       "      <td>-0.338466</td>\n",
       "      <td>0.055907</td>\n",
       "    </tr>\n",
       "  </tbody>\n",
       "</table>\n",
       "<p>5 rows × 128 columns</p>\n",
       "</div>"
      ],
      "text/plain": [
       "                   1         2         3         4         5         6    \\\n",
       "named_entity                                                               \n",
       "51            0.201396  0.396243 -0.266897 -0.580919  0.309138 -0.215859   \n",
       "2            -0.377510  0.117800 -0.568410 -0.389599  0.084741 -0.241372   \n",
       "35            0.086804 -0.426829 -0.116550 -0.151494 -0.107983 -0.178468   \n",
       "24            0.049161 -0.354999 -0.165840  0.084412 -0.240874 -0.380403   \n",
       "9             0.034572 -0.339031 -0.173325  0.068606 -0.245434 -0.380075   \n",
       "\n",
       "                   7         8         9         10   ...       119       120  \\\n",
       "named_entity                                          ...                       \n",
       "51            0.177556 -0.281016 -0.131219 -0.013089  ... -0.158429  0.280645   \n",
       "2            -0.283782 -0.203280 -0.153969 -0.230429  ...  0.138216  0.316665   \n",
       "35            0.257112 -0.354095  0.221099 -0.242830  ... -0.095036  0.616571   \n",
       "24            0.409854  0.238315 -0.265640 -0.333510  ...  0.043810  0.042521   \n",
       "9             0.410750  0.238807 -0.279120 -0.341910  ...  0.054638  0.022407   \n",
       "\n",
       "                   121       122       123       124       125       126  \\\n",
       "named_entity                                                               \n",
       "51            0.427394 -0.277015 -0.268398  0.309646  0.308136  0.149765   \n",
       "2             0.105284 -0.261846 -0.602530  0.031347 -0.658672 -0.371573   \n",
       "35            0.214014 -0.083181 -0.456401  0.249818  0.158148  0.136226   \n",
       "24            0.263100  0.179329 -0.232597  0.271666  0.244623 -0.231822   \n",
       "9             0.265012  0.188955 -0.232845  0.279593  0.242585 -0.242018   \n",
       "\n",
       "                   127       128  \n",
       "named_entity                      \n",
       "51            0.139561  0.137682  \n",
       "2            -0.082173 -0.061790  \n",
       "35            0.003339 -0.519082  \n",
       "24           -0.327294  0.041148  \n",
       "9            -0.338466  0.055907  \n",
       "\n",
       "[5 rows x 128 columns]"
      ]
     },
     "execution_count": 97,
     "metadata": {},
     "output_type": "execute_result"
    }
   ],
   "source": [
    "emb_df = pd.read_csv('emb', sep=' ', skiprows=[0], header=None)\n",
    "emb_df.set_index(0, inplace=True)\n",
    "emb_df.index.name = 'named_entity'\n",
    "emb_df.head()"
   ]
  },
  {
   "cell_type": "code",
   "execution_count": 98,
   "metadata": {},
   "outputs": [
    {
     "data": {
      "text/plain": [
       "(97, 128)"
      ]
     },
     "execution_count": 98,
     "metadata": {},
     "output_type": "execute_result"
    }
   ],
   "source": [
    "emb_df.shape"
   ]
  },
  {
   "cell_type": "markdown",
   "metadata": {},
   "source": [
    "基本上每个类别都有 embedding 了。"
   ]
  },
  {
   "cell_type": "markdown",
   "metadata": {},
   "source": [
    "> Each column is a dimension in the embedding space. Each row contains the dimensions of the embedding of one named entity.  \n",
    "\n",
    "每一列是一个 embedding 的维度。\n",
    "\n",
    "> We'll now cluster the embeddings using a simple clustering algorithm such as k-means.\n",
    "\n",
    "下面利用 embedding 进行聚类。"
   ]
  },
  {
   "cell_type": "code",
   "execution_count": 81,
   "metadata": {},
   "outputs": [
    {
     "data": {
      "text/html": [
       "<div>\n",
       "<style scoped>\n",
       "    .dataframe tbody tr th:only-of-type {\n",
       "        vertical-align: middle;\n",
       "    }\n",
       "\n",
       "    .dataframe tbody tr th {\n",
       "        vertical-align: top;\n",
       "    }\n",
       "\n",
       "    .dataframe thead th {\n",
       "        text-align: right;\n",
       "    }\n",
       "</style>\n",
       "<table border=\"1\" class=\"dataframe\">\n",
       "  <thead>\n",
       "    <tr style=\"text-align: right;\">\n",
       "      <th></th>\n",
       "      <th>named_entity</th>\n",
       "      <th>cluster</th>\n",
       "    </tr>\n",
       "  </thead>\n",
       "  <tbody>\n",
       "    <tr>\n",
       "      <th>0</th>\n",
       "      <td>51</td>\n",
       "      <td>0</td>\n",
       "    </tr>\n",
       "    <tr>\n",
       "      <th>1</th>\n",
       "      <td>35</td>\n",
       "      <td>1</td>\n",
       "    </tr>\n",
       "    <tr>\n",
       "      <th>2</th>\n",
       "      <td>2</td>\n",
       "      <td>1</td>\n",
       "    </tr>\n",
       "    <tr>\n",
       "      <th>3</th>\n",
       "      <td>24</td>\n",
       "      <td>0</td>\n",
       "    </tr>\n",
       "    <tr>\n",
       "      <th>4</th>\n",
       "      <td>9</td>\n",
       "      <td>0</td>\n",
       "    </tr>\n",
       "  </tbody>\n",
       "</table>\n",
       "</div>"
      ],
      "text/plain": [
       "   named_entity  cluster\n",
       "0            51        0\n",
       "1            35        1\n",
       "2             2        1\n",
       "3            24        0\n",
       "4             9        0"
      ]
     },
     "execution_count": 81,
     "metadata": {},
     "output_type": "execute_result"
    }
   ],
   "source": [
    "NUM_CLUSTERS = 2\n",
    "# By default 10\n",
    "\n",
    "kmeans = KMeans(n_clusters=NUM_CLUSTERS)\n",
    "kmeans.fit(emb_df)\n",
    "labels = kmeans.predict(emb_df)\n",
    "emb_df['cluster'] = labels\n",
    "clusters_df = emb_df.reset_index()[['named_entity','cluster']]\n",
    "clusters_df.head()"
   ]
  },
  {
   "cell_type": "markdown",
   "metadata": {},
   "source": [
    "## 3. Prepare input for Gephi:"
   ]
  },
  {
   "cell_type": "markdown",
   "metadata": {},
   "source": [
    "[Gephi](https://gephi.org) (Java 1.8 or higher) is a nice visualization tool for graphical data.  \n",
    "We'll output our data into a format recognizable by Gephi."
   ]
  },
  {
   "cell_type": "code",
   "execution_count": 82,
   "metadata": {},
   "outputs": [],
   "source": [
    "id_to_named_entity = {named_entity_id: named_entity\n",
    "                      for named_entity, named_entity_id in tokenizer.items()}\n",
    "\n",
    "with open('clusters.gdf', 'w') as f:\n",
    "    f.write('nodedef>name VARCHAR,cluster_id VARCHAR,label VARCHAR\\n')\n",
    "    for index, row in clusters_df.iterrows():\n",
    "        f.write('{},{},{}\\n'.format(row['named_entity'], row['cluster'], id_to_named_entity[row['named_entity']]))\n",
    "    f.write('edgedef>node1 VARCHAR,node2 VARCHAR, weight DOUBLE\\n')\n",
    "    for index, row in edges_df.iterrows(): \n",
    "        f.write('{},{},{}\\n'.format(row['named_entity_1'], row['named_entity_2'], row['weight']))"
   ]
  },
  {
   "cell_type": "markdown",
   "metadata": {},
   "source": [
    "Finally, we can open `clusters.gdf` using Gephi in order to inspect the clusters."
   ]
  }
 ],
 "metadata": {
  "kernelspec": {
   "display_name": "Python 3",
   "language": "python",
   "name": "python3"
  },
  "language_info": {
   "codemirror_mode": {
    "name": "ipython",
    "version": 3
   },
   "file_extension": ".py",
   "mimetype": "text/x-python",
   "name": "python",
   "nbconvert_exporter": "python",
   "pygments_lexer": "ipython3",
   "version": "3.7.3"
  }
 },
 "nbformat": 4,
 "nbformat_minor": 2
}
