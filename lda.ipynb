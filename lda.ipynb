{
 "cells": [
  {
   "cell_type": "code",
   "execution_count": null,
   "metadata": {},
   "outputs": [],
   "source": [
    "# default_exp lda"
   ]
  },
  {
   "cell_type": "code",
   "execution_count": 1,
   "metadata": {
    "colab": {
     "base_uri": "https://localhost:8080/",
     "height": 1063
    },
    "colab_type": "code",
    "id": "U32BHTBUq7D6",
    "outputId": "6f2ba14c-1484-4a32-e02e-0cc4106fed82"
   },
   "outputs": [],
   "source": [
    "# !pip install PyDrive\n",
    "# !pip install gensim\n",
    "# !pip install pyldavis\n",
    "# !python -m spacy download en\n",
    "# !pip install nltk"
   ]
  },
  {
   "cell_type": "code",
   "execution_count": 2,
   "metadata": {
    "colab": {
     "base_uri": "https://localhost:8080/",
     "height": 71
    },
    "colab_type": "code",
    "id": "z3LQhDUitB_I",
    "outputId": "be88b89d-e4fe-4371-fb8b-c9c030169fe9"
   },
   "outputs": [],
   "source": [
    "import os\n",
    "from pydrive.auth import GoogleAuth\n",
    "from pydrive.drive import GoogleDrive\n",
    "# from google.colab import auth\n",
    "from oauth2client.client import GoogleCredentials\n",
    "import nltk\n",
    "from nltk import FreqDist\n",
    "# nltk.download('stopwords')"
   ]
  },
  {
   "cell_type": "code",
   "execution_count": 3,
   "metadata": {
    "colab": {},
    "colab_type": "code",
    "id": "v7ftghxl_SzE"
   },
   "outputs": [],
   "source": [
    "import pandas as pd\n",
    "pd.set_option(\"display.max_colwidth\", 200)\n",
    "import numpy as np\n",
    "import json\n",
    "import re\n",
    "import gzip\n",
    "import spacy\n",
    "\n",
    "import gensim\n",
    "from gensim import corpora\n",
    "\n",
    "import pyLDAvis\n",
    "import pyLDAvis.gensim\n",
    "import matplotlib.pyplot as plt\n",
    "import seaborn as sns\n",
    "%matplotlib inline"
   ]
  },
  {
   "cell_type": "code",
   "execution_count": 4,
   "metadata": {
    "colab": {},
    "colab_type": "code",
    "id": "k-_gLizownvx"
   },
   "outputs": [],
   "source": [
    "# export\n",
    "def parse(path):\n",
    "    g = gzip.open(path, 'rb')\n",
    "    for l in g:\n",
    "        yield eval(l)\n",
    "    \n",
    "def getDF(path):\n",
    "    i = 0\n",
    "    df = {}\n",
    "    for d in parse(path):\n",
    "        df[i] = d\n",
    "        i += 1\n",
    "    return pd.DataFrame.from_dict(df, orient='index')"
   ]
  },
  {
   "cell_type": "code",
   "execution_count": 5,
   "metadata": {},
   "outputs": [],
   "source": [
    "named_entities_df = pd.read_csv('../output/event_features.csv')\n",
    "named_entities_df.columns = ['named_entities']"
   ]
  },
  {
   "cell_type": "code",
   "execution_count": 6,
   "metadata": {
    "colab": {
     "base_uri": "https://localhost:8080/",
     "height": 459
    },
    "colab_type": "code",
    "id": "17zMP_rlEnCo",
    "outputId": "7f4dcd45-133b-49a5-b5fe-7f85e8d741b6",
    "scrolled": true
   },
   "outputs": [
    {
     "data": {
      "text/html": [
       "<div>\n",
       "<style scoped>\n",
       "    .dataframe tbody tr th:only-of-type {\n",
       "        vertical-align: middle;\n",
       "    }\n",
       "\n",
       "    .dataframe tbody tr th {\n",
       "        vertical-align: top;\n",
       "    }\n",
       "\n",
       "    .dataframe thead th {\n",
       "        text-align: right;\n",
       "    }\n",
       "</style>\n",
       "<table border=\"1\" class=\"dataframe\">\n",
       "  <thead>\n",
       "    <tr style=\"text-align: right;\">\n",
       "      <th></th>\n",
       "      <th>named_entities</th>\n",
       "    </tr>\n",
       "  </thead>\n",
       "  <tbody>\n",
       "    <tr>\n",
       "      <th>0</th>\n",
       "      <td>3bfd1a65 a52b92d5 7da34a02 25fa8af4</td>\n",
       "    </tr>\n",
       "    <tr>\n",
       "      <th>1</th>\n",
       "      <td>f56e0afc ec138c1c 4a4c3d21 e37a2b78 17113b36 4a4c3d21 51102b85 4a4c3d21 e37a2b78 17113b36 17113b36 51102b85 51102b85 4a4c3d21</td>\n",
       "    </tr>\n",
       "    <tr>\n",
       "      <th>2</th>\n",
       "      <td>c74f40cd c74f40cd a52b92d5 7da34a02 7da34a02 fbaf3456 5f0eb72c c74f40cd</td>\n",
       "    </tr>\n",
       "    <tr>\n",
       "      <th>3</th>\n",
       "      <td>3bfd1a65 a1e4395d c74f40cd 28ed704e a1e4395d 7da34a02 5f0eb72c c7128948</td>\n",
       "    </tr>\n",
       "    <tr>\n",
       "      <th>4</th>\n",
       "      <td>7525289a f6947f54 bdf49a58</td>\n",
       "    </tr>\n",
       "  </tbody>\n",
       "</table>\n",
       "</div>"
      ],
      "text/plain": [
       "                                                                                                                  named_entities\n",
       "0                                                                                            3bfd1a65 a52b92d5 7da34a02 25fa8af4\n",
       "1  f56e0afc ec138c1c 4a4c3d21 e37a2b78 17113b36 4a4c3d21 51102b85 4a4c3d21 e37a2b78 17113b36 17113b36 51102b85 51102b85 4a4c3d21\n",
       "2                                                        c74f40cd c74f40cd a52b92d5 7da34a02 7da34a02 fbaf3456 5f0eb72c c74f40cd\n",
       "3                                                        3bfd1a65 a1e4395d c74f40cd 28ed704e a1e4395d 7da34a02 5f0eb72c c7128948\n",
       "4                                                                                                     7525289a f6947f54 bdf49a58"
      ]
     },
     "execution_count": 6,
     "metadata": {},
     "output_type": "execute_result"
    }
   ],
   "source": [
    "named_entities_df.head()"
   ]
  },
  {
   "cell_type": "code",
   "execution_count": 20,
   "metadata": {
    "colab": {},
    "colab_type": "code",
    "id": "jjLyeSxg41OQ"
   },
   "outputs": [],
   "source": [
    "# export\n",
    "def freq_words(x, terms = 30, x_label_size = 12, x_rotation_degree = 45):\n",
    "    all_words = ' '.join([str(text) for text in x])\n",
    "    # hold elements str.\n",
    "    all_words = all_words.split()\n",
    "\n",
    "    fdist = FreqDist(all_words)\n",
    "    words_df = pd.DataFrame({'word':list(fdist.keys()), 'count':list(fdist.values())})\n",
    "\n",
    "    # selecting top 20 most frequent words\n",
    "    d = words_df.nlargest(columns=\"count\", n = terms) \n",
    "    plt.figure(figsize=(20,5))\n",
    "    ax = sns.barplot(data=d, x= \"word\", y = \"count\")\n",
    "    ax.set(ylabel = 'Count')\n",
    "    \n",
    "    plt.xlabel('Events', size = x_label_size)\n",
    "    plt.xticks(rotation = x_rotation_degree)\n",
    "    plt.show()"
   ]
  },
  {
   "cell_type": "code",
   "execution_count": 21,
   "metadata": {
    "colab": {
     "base_uri": "https://localhost:8080/",
     "height": 426
    },
    "colab_type": "code",
    "id": "pennLlyl5Whp",
    "outputId": "057ab4de-0c87-4d9a-edf8-7a4bbc7e8949"
   },
   "outputs": [
    {
     "data": {
      "image/png": "[encoded data removed]",
      "text/plain": [
       "<Figure size 1440x360 with 1 Axes>"
      ]
     },
     "metadata": {
      "needs_background": "light"
     },
     "output_type": "display_data"
    }
   ],
   "source": [
    "freq_words(named_entities_df['named_entities'])"
   ]
  },
  {
   "cell_type": "code",
   "execution_count": 25,
   "metadata": {
    "colab": {},
    "colab_type": "code",
    "id": "A_r_uxa3Icq0"
   },
   "outputs": [
    {
     "name": "stdout",
     "output_type": "stream",
     "text": [
      "['f56e0afc', 'ec138c1c', '4a4c3d21', 'e37a2b78', '17113b36', '4a4c3d21', '51102b85', '4a4c3d21', 'e37a2b78', '17113b36', '17113b36', '51102b85', '51102b85', '4a4c3d21']\n",
      "14\n"
     ]
    }
   ],
   "source": [
    "events = named_entities_df['named_entities'].apply(lambda x: str(x).split())\n",
    "print(events[1])\n",
    "print(len(events[1]))"
   ]
  },
  {
   "cell_type": "code",
   "execution_count": 26,
   "metadata": {
    "colab": {},
    "colab_type": "code",
    "id": "FBtKwstViu_h"
   },
   "outputs": [],
   "source": [
    "# Create the term dictionary of our corpus, where every unique term is assigned an index\n",
    "dictionary = corpora.Dictionary(events)"
   ]
  },
  {
   "cell_type": "code",
   "execution_count": 27,
   "metadata": {
    "colab": {},
    "colab_type": "code",
    "id": "rDoMrZfkiu-c"
   },
   "outputs": [],
   "source": [
    "# Convert list of reviews (reviews_2) into a Document Term Matrix using the dictionary prepared above.\n",
    "doc_term_matrix = [dictionary.doc2bow(event) for event in events]"
   ]
  },
  {
   "cell_type": "code",
   "execution_count": 28,
   "metadata": {
    "colab": {},
    "colab_type": "code",
    "id": "X6JSF612qkm1"
   },
   "outputs": [],
   "source": [
    "# Creating the object for LDA model using gensim library\n",
    "LDA = gensim.models.ldamodel.LdaModel"
   ]
  },
  {
   "cell_type": "code",
   "execution_count": 29,
   "metadata": {
    "colab": {},
    "colab_type": "code",
    "id": "U8MLxPhRiuh6"
   },
   "outputs": [],
   "source": [
    "# Build LDA model\n",
    "lda_model = LDA(corpus=doc_term_matrix,\n",
    "                id2word=dictionary,\n",
    "                num_topics=7, \n",
    "                random_state=100,\n",
    "                chunksize=1000,\n",
    "                passes=50)\n",
    "# 执行时间很长"
   ]
  },
  {
   "cell_type": "code",
   "execution_count": 30,
   "metadata": {
    "colab": {
     "base_uri": "https://localhost:8080/",
     "height": 289
    },
    "colab_type": "code",
    "id": "TB5lGOR3iucK",
    "outputId": "a6c66aa2-34c9-4b80-bc56-601eed395193"
   },
   "outputs": [
    {
     "data": {
      "text/plain": [
       "[(0,\n",
       "  '0.150*\"37ee8496\" + 0.122*\"30614231\" + 0.120*\"923afab1\" + 0.113*\"2dcad279\" + 0.093*\"b5053438\" + 0.087*\"d3268efa\" + 0.061*\"28520915\" + 0.059*\"532a2afb\" + 0.051*\"91561152\" + 0.034*\"3ee399c3\"'),\n",
       " (1,\n",
       "  '0.228*\"7da34a02\" + 0.110*\"fbaf3456\" + 0.087*\"5f0eb72c\" + 0.081*\"9d29771f\" + 0.079*\"c74f40cd\" + 0.076*\"a1e4395d\" + 0.074*\"a52b92d5\" + 0.059*\"28ed704e\" + 0.033*\"25fa8af4\" + 0.021*\"c7128948\"'),\n",
       " (2,\n",
       "  '0.271*\"a8efe47b\" + 0.165*\"bd612267\" + 0.138*\"562cec5f\" + 0.072*\"0db6d71d\" + 0.058*\"93b353f2\" + 0.057*\"df4fe8b6\" + 0.054*\"ea296733\" + 0.047*\"3dcdda7f\" + 0.043*\"3ccd3f02\" + 0.033*\"3d0b9317\"'),\n",
       " (3,\n",
       "  '0.281*\"5e109ec3\" + 0.197*\"5c2f29ca\" + 0.135*\"acf5c23f\" + 0.048*\"828e68f9\" + 0.046*\"795e4a37\" + 0.045*\"d122731b\" + 0.045*\"9d4e7b25\" + 0.027*\"3d63345e\" + 0.026*\"7ad3efc6\" + 0.026*\"65a38bf7\"'),\n",
       " (4,\n",
       "  '0.388*\"3ee399c3\" + 0.104*\"37ee8496\" + 0.082*\"04df9b66\" + 0.082*\"5290eab1\" + 0.068*\"392e14df\" + 0.062*\"2dcad279\" + 0.056*\"30614231\" + 0.052*\"923afab1\" + 0.037*\"5348fd84\" + 0.019*\"532a2afb\"'),\n",
       " (5,\n",
       "  '0.211*\"51102b85\" + 0.203*\"a16a373e\" + 0.150*\"4a4c3d21\" + 0.062*\"17113b36\" + 0.057*\"e37a2b78\" + 0.054*\"ad2fc29c\" + 0.054*\"bdf49a58\" + 0.053*\"1375ccb7\" + 0.042*\"8fee50e2\" + 0.025*\"ec138c1c\"'),\n",
       " (6,\n",
       "  '0.217*\"a8efe47b\" + 0.156*\"0db6d71d\" + 0.128*\"3ccd3f02\" + 0.120*\"3dcdda7f\" + 0.083*\"e4f1efe6\" + 0.076*\"3afb49e6\" + 0.049*\"93b353f2\" + 0.048*\"5b49460a\" + 0.045*\"bd612267\" + 0.038*\"155f62a4\"')]"
      ]
     },
     "execution_count": 30,
     "metadata": {},
     "output_type": "execute_result"
    }
   ],
   "source": [
    "lda_model.print_topics()"
   ]
  },
  {
   "cell_type": "code",
   "execution_count": 33,
   "metadata": {
    "colab": {
     "base_uri": "https://localhost:8080/",
     "height": 860
    },
    "colab_type": "code",
    "id": "4nRZyKPDCauL",
    "outputId": "b0ef59ff-5204-4ea1-80c9-f100cc9bf1cb"
   },
   "outputs": [],
   "source": [
    "# Visualize the topics\n",
    "# pyLDAvis.enable_notebook()\n",
    "# vis = pyLDAvis.gensim.prepare(lda_model, doc_term_matrix, dictionary)\n",
    "# vis\n",
    "# 运行较慢"
   ]
  },
  {
   "cell_type": "markdown",
   "metadata": {},
   "source": [
    "## save model"
   ]
  },
  {
   "cell_type": "code",
   "execution_count": 34,
   "metadata": {},
   "outputs": [
    {
     "data": {
      "text/plain": [
       "gensim.models.ldamodel.LdaModel"
      ]
     },
     "execution_count": 34,
     "metadata": {},
     "output_type": "execute_result"
    }
   ],
   "source": [
    "lda_model.__class__"
   ]
  },
  {
   "cell_type": "markdown",
   "metadata": {},
   "source": [
    "参考 https://radimrehurek.com/gensim/models/ldamodel.html"
   ]
  },
  {
   "cell_type": "code",
   "execution_count": 36,
   "metadata": {},
   "outputs": [],
   "source": [
    "lda_model.save(\"../model/lda.model\")"
   ]
  },
  {
   "cell_type": "code",
   "execution_count": 49,
   "metadata": {
    "colab": {},
    "colab_type": "code",
    "id": "QQk4i7FQC6V_"
   },
   "outputs": [],
   "source": [
    "lda_model2 = gensim.models.ldamodel.LdaModel.load(\"../model/lda.model\")"
   ]
  },
  {
   "cell_type": "code",
   "execution_count": 50,
   "metadata": {},
   "outputs": [
    {
     "data": {
      "text/plain": [
       "[(0,\n",
       "  '0.150*\"37ee8496\" + 0.122*\"30614231\" + 0.120*\"923afab1\" + 0.113*\"2dcad279\" + 0.093*\"b5053438\" + 0.087*\"d3268efa\" + 0.061*\"28520915\" + 0.059*\"532a2afb\" + 0.051*\"91561152\" + 0.034*\"3ee399c3\"'),\n",
       " (1,\n",
       "  '0.228*\"7da34a02\" + 0.110*\"fbaf3456\" + 0.087*\"5f0eb72c\" + 0.081*\"9d29771f\" + 0.079*\"c74f40cd\" + 0.076*\"a1e4395d\" + 0.074*\"a52b92d5\" + 0.059*\"28ed704e\" + 0.033*\"25fa8af4\" + 0.021*\"c7128948\"'),\n",
       " (2,\n",
       "  '0.271*\"a8efe47b\" + 0.165*\"bd612267\" + 0.138*\"562cec5f\" + 0.072*\"0db6d71d\" + 0.058*\"93b353f2\" + 0.057*\"df4fe8b6\" + 0.054*\"ea296733\" + 0.047*\"3dcdda7f\" + 0.043*\"3ccd3f02\" + 0.033*\"3d0b9317\"'),\n",
       " (3,\n",
       "  '0.281*\"5e109ec3\" + 0.197*\"5c2f29ca\" + 0.135*\"acf5c23f\" + 0.048*\"828e68f9\" + 0.046*\"795e4a37\" + 0.045*\"d122731b\" + 0.045*\"9d4e7b25\" + 0.027*\"3d63345e\" + 0.026*\"7ad3efc6\" + 0.026*\"65a38bf7\"'),\n",
       " (4,\n",
       "  '0.388*\"3ee399c3\" + 0.104*\"37ee8496\" + 0.082*\"04df9b66\" + 0.082*\"5290eab1\" + 0.068*\"392e14df\" + 0.062*\"2dcad279\" + 0.056*\"30614231\" + 0.052*\"923afab1\" + 0.037*\"5348fd84\" + 0.019*\"532a2afb\"'),\n",
       " (5,\n",
       "  '0.211*\"51102b85\" + 0.203*\"a16a373e\" + 0.150*\"4a4c3d21\" + 0.062*\"17113b36\" + 0.057*\"e37a2b78\" + 0.054*\"ad2fc29c\" + 0.054*\"bdf49a58\" + 0.053*\"1375ccb7\" + 0.042*\"8fee50e2\" + 0.025*\"ec138c1c\"'),\n",
       " (6,\n",
       "  '0.217*\"a8efe47b\" + 0.156*\"0db6d71d\" + 0.128*\"3ccd3f02\" + 0.120*\"3dcdda7f\" + 0.083*\"e4f1efe6\" + 0.076*\"3afb49e6\" + 0.049*\"93b353f2\" + 0.048*\"5b49460a\" + 0.045*\"bd612267\" + 0.038*\"155f62a4\"')]"
      ]
     },
     "execution_count": 50,
     "metadata": {},
     "output_type": "execute_result"
    }
   ],
   "source": [
    "lda_model2.print_topics()"
   ]
  },
  {
   "cell_type": "markdown",
   "metadata": {},
   "source": [
    "把相关规则进行存储。"
   ]
  },
  {
   "cell_type": "markdown",
   "metadata": {},
   "source": [
    "## embedding"
   ]
  },
  {
   "cell_type": "code",
   "execution_count": 88,
   "metadata": {},
   "outputs": [],
   "source": [
    "dtm = lda_model2.get_document_topics(doc_term_matrix)"
   ]
  },
  {
   "cell_type": "code",
   "execution_count": 136,
   "metadata": {},
   "outputs": [],
   "source": [
    "dtm_df = pd.DataFrame(lda_model2.get_document_topics(doc_term_matrix))"
   ]
  },
  {
   "cell_type": "code",
   "execution_count": 165,
   "metadata": {},
   "outputs": [
    {
     "data": {
      "text/html": [
       "<div>\n",
       "<style scoped>\n",
       "    .dataframe tbody tr th:only-of-type {\n",
       "        vertical-align: middle;\n",
       "    }\n",
       "\n",
       "    .dataframe tbody tr th {\n",
       "        vertical-align: top;\n",
       "    }\n",
       "\n",
       "    .dataframe thead th {\n",
       "        text-align: right;\n",
       "    }\n",
       "</style>\n",
       "<table border=\"1\" class=\"dataframe\">\n",
       "  <thead>\n",
       "    <tr style=\"text-align: right;\">\n",
       "      <th></th>\n",
       "      <th>0</th>\n",
       "      <th>1</th>\n",
       "      <th>2</th>\n",
       "      <th>3</th>\n",
       "      <th>4</th>\n",
       "      <th>5</th>\n",
       "      <th>6</th>\n",
       "    </tr>\n",
       "  </thead>\n",
       "  <tbody>\n",
       "    <tr>\n",
       "      <th>0</th>\n",
       "      <td>(0, 0.028571509)</td>\n",
       "      <td>(1, 0.82857096)</td>\n",
       "      <td>(2, 0.028571509)</td>\n",
       "      <td>(3, 0.028571509)</td>\n",
       "      <td>(4, 0.028571509)</td>\n",
       "      <td>(5, 0.028571509)</td>\n",
       "      <td>(6, 0.028571509)</td>\n",
       "    </tr>\n",
       "    <tr>\n",
       "      <th>1</th>\n",
       "      <td>(5, 0.9428571)</td>\n",
       "      <td>None</td>\n",
       "      <td>None</td>\n",
       "      <td>None</td>\n",
       "      <td>None</td>\n",
       "      <td>None</td>\n",
       "      <td>None</td>\n",
       "    </tr>\n",
       "    <tr>\n",
       "      <th>2</th>\n",
       "      <td>(0, 0.015873037)</td>\n",
       "      <td>(1, 0.90476185)</td>\n",
       "      <td>(2, 0.015873037)</td>\n",
       "      <td>(3, 0.015873037)</td>\n",
       "      <td>(4, 0.015873037)</td>\n",
       "      <td>(5, 0.015873037)</td>\n",
       "      <td>(6, 0.015873037)</td>\n",
       "    </tr>\n",
       "    <tr>\n",
       "      <th>3</th>\n",
       "      <td>(0, 0.015873056)</td>\n",
       "      <td>(1, 0.90476173)</td>\n",
       "      <td>(2, 0.015873056)</td>\n",
       "      <td>(3, 0.015873056)</td>\n",
       "      <td>(4, 0.015873056)</td>\n",
       "      <td>(5, 0.015873056)</td>\n",
       "      <td>(6, 0.015873056)</td>\n",
       "    </tr>\n",
       "    <tr>\n",
       "      <th>4</th>\n",
       "      <td>(0, 0.035714533)</td>\n",
       "      <td>(1, 0.035714533)</td>\n",
       "      <td>(2, 0.035714533)</td>\n",
       "      <td>(3, 0.035714533)</td>\n",
       "      <td>(4, 0.035714533)</td>\n",
       "      <td>(5, 0.7857128)</td>\n",
       "      <td>(6, 0.035714533)</td>\n",
       "    </tr>\n",
       "  </tbody>\n",
       "</table>\n",
       "</div>"
      ],
      "text/plain": [
       "                  0                 1                 2                 3  \\\n",
       "0  (0, 0.028571509)   (1, 0.82857096)  (2, 0.028571509)  (3, 0.028571509)   \n",
       "1    (5, 0.9428571)              None              None              None   \n",
       "2  (0, 0.015873037)   (1, 0.90476185)  (2, 0.015873037)  (3, 0.015873037)   \n",
       "3  (0, 0.015873056)   (1, 0.90476173)  (2, 0.015873056)  (3, 0.015873056)   \n",
       "4  (0, 0.035714533)  (1, 0.035714533)  (2, 0.035714533)  (3, 0.035714533)   \n",
       "\n",
       "                  4                 5                 6  \n",
       "0  (4, 0.028571509)  (5, 0.028571509)  (6, 0.028571509)  \n",
       "1              None              None              None  \n",
       "2  (4, 0.015873037)  (5, 0.015873037)  (6, 0.015873037)  \n",
       "3  (4, 0.015873056)  (5, 0.015873056)  (6, 0.015873056)  \n",
       "4  (4, 0.035714533)    (5, 0.7857128)  (6, 0.035714533)  "
      ]
     },
     "execution_count": 165,
     "metadata": {},
     "output_type": "execute_result"
    }
   ],
   "source": [
    "dtm_df.head()"
   ]
  },
  {
   "cell_type": "code",
   "execution_count": 166,
   "metadata": {},
   "outputs": [],
   "source": [
    "dtm_df.to_csv(\"../output/lda_embedding.csv\", index = False)"
   ]
  }
 ],
 "metadata": {
  "colab": {
   "collapsed_sections": [],
   "name": "Mining Online Reviews using Topic Modeling (LDA)",
   "provenance": [],
   "version": "0.3.2"
  },
  "kernelspec": {
   "display_name": "Python 3",
   "language": "python",
   "name": "python3"
  },
  "language_info": {
   "codemirror_mode": {
    "name": "ipython",
    "version": 3
   },
   "file_extension": ".py",
   "mimetype": "text/x-python",
   "name": "python",
   "nbconvert_exporter": "python",
   "pygments_lexer": "ipython3",
   "version": "3.7.3"
  }
 },
 "nbformat": 4,
 "nbformat_minor": 1
}
