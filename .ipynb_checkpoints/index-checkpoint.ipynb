{
 "cells": [
  {
   "cell_type": "code",
   "execution_count": 4,
   "metadata": {},
   "outputs": [],
   "source": [
    "#hide\n",
    "from data_science_bowl_2019 import *"
   ]
  },
  {
   "cell_type": "markdown",
   "metadata": {},
   "source": [
    "# data_science_bowl_2019\n",
    "\n",
    "> The notebooks for the competition Data Science Bowl 2019"
   ]
  },
  {
   "cell_type": "markdown",
   "metadata": {},
   "source": [
    "\n",
    "I join this competition\n",
    "[data-science-bowl-2019](https://www.kaggle.com/c/data-science-bowl-2019),\n",
    "which ends on January 15, 2020. For the data feature, I do some work on\n",
    "the series features, using word2vec, LDA and node2vec.\n",
    "\n",
    "1.  [wide and\n",
    "    deep](https://github.com/JiaxiangBU/data-science-bowl-2019EX/blob/master/wide_and_deep.ipynb)\n",
    "2.  [node2vec](https://github.com/JiaxiangBU/data-science-bowl-2019EX/blob/master/node2vec.ipynb)\n",
    "3.  [LDA](https://github.com/JiaxiangBU/data-science-bowl-2019EX/blob/master/lda.ipynb)\n",
    "\n",
    "The baseline feature engineering I forked from Hosseinali (2019).\n",
    "However, it helps me focus on series features. Also, I use LTSM model to\n",
    "elaborate series features, I forked from Grecnik (2019).\n",
    "\n",
    "<div id=\"refs\" class=\"references\">\n",
    "\n",
    "<div id=\"ref-Grecnik2019\">\n",
    "\n",
    "Grecnik. 2019. “Bowl Lstm Prediction | Kaggle.” Kaggle. 2019.\n",
    "<https://www.kaggle.com/nikitagrec/bowl-lstm-prediction>.\n",
    "\n",
    "</div>\n",
    "\n",
    "<div id=\"ref-Massoud_Hosseinali2019\">\n",
    "\n",
    "Hosseinali, Massoud. 2019. “A New Baseline for Dsb 2019 - Catboost\n",
    "Model.” Kaggle. 2019.\n",
    "<https://www.kaggle.com/mhviraf/a-new-baseline-for-dsb-2019-catboost-model>.\n",
    "\n",
    "</div>\n",
    "\n",
    "</div>\n"
   ]
  },
  {
   "cell_type": "markdown",
   "metadata": {},
   "source": [
    "## Install"
   ]
  },
  {
   "cell_type": "markdown",
   "metadata": {},
   "source": [
    "`pip install data_science_bowl_2019`"
   ]
  },
  {
   "cell_type": "markdown",
   "metadata": {},
   "source": [
    "## How to use"
   ]
  },
  {
   "cell_type": "markdown",
   "metadata": {},
   "source": [
    "See demo."
   ]
  }
 ],
 "metadata": {
  "kernelspec": {
   "display_name": "Python 3",
   "language": "python",
   "name": "python3"
  },
  "language_info": {
   "codemirror_mode": {
    "name": "ipython",
    "version": 3
   },
   "file_extension": ".py",
   "mimetype": "text/x-python",
   "name": "python",
   "nbconvert_exporter": "python",
   "pygments_lexer": "ipython3",
   "version": "3.7.3"
  }
 },
 "nbformat": 4,
 "nbformat_minor": 2
}
